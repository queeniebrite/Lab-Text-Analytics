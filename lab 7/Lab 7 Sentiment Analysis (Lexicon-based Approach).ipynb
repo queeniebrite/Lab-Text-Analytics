{
 "cells": [
  {
   "cell_type": "code",
   "execution_count": 2,
   "id": "53531b8f-03a4-4e9e-b38c-233a6cf7031d",
   "metadata": {},
   "outputs": [
    {
     "name": "stdout",
     "output_type": "stream",
     "text": [
      "Collecting textblobNote: you may need to restart the kernel to use updated packages.\n",
      "\n",
      "  Downloading textblob-0.18.0.post0-py3-none-any.whl.metadata (4.5 kB)\n",
      "Requirement already satisfied: nltk>=3.8 in c:\\users\\acer\\appdata\\local\\programs\\python\\python312\\lib\\site-packages (from textblob) (3.8.1)\n",
      "Requirement already satisfied: click in c:\\users\\acer\\appdata\\local\\programs\\python\\python312\\lib\\site-packages (from nltk>=3.8->textblob) (8.1.7)\n",
      "Requirement already satisfied: joblib in c:\\users\\acer\\appdata\\local\\programs\\python\\python312\\lib\\site-packages (from nltk>=3.8->textblob) (1.3.2)\n",
      "Requirement already satisfied: regex>=2021.8.3 in c:\\users\\acer\\appdata\\local\\programs\\python\\python312\\lib\\site-packages (from nltk>=3.8->textblob) (2023.12.25)\n",
      "Requirement already satisfied: tqdm in c:\\users\\acer\\appdata\\local\\programs\\python\\python312\\lib\\site-packages (from nltk>=3.8->textblob) (4.66.2)\n",
      "Requirement already satisfied: colorama in c:\\users\\acer\\appdata\\local\\programs\\python\\python312\\lib\\site-packages (from click->nltk>=3.8->textblob) (0.4.6)\n",
      "Downloading textblob-0.18.0.post0-py3-none-any.whl (626 kB)\n",
      "   ---------------------------------------- 0.0/626.3 kB ? eta -:--:--\n",
      "   -------------------------------- ------ 522.2/626.3 kB 10.9 MB/s eta 0:00:01\n",
      "   ---------------------------------------- 626.3/626.3 kB 7.9 MB/s eta 0:00:00\n",
      "Installing collected packages: textblob\n",
      "Successfully installed textblob-0.18.0.post0\n"
     ]
    }
   ],
   "source": [
    "pip install textblob"
   ]
  },
  {
   "cell_type": "code",
   "execution_count": 4,
   "id": "9cba3fba-f379-4656-b098-b8820b76a180",
   "metadata": {},
   "outputs": [
    {
     "name": "stdout",
     "output_type": "stream",
     "text": [
      "Collecting vaderSentiment\n",
      "  Downloading vaderSentiment-3.3.2-py2.py3-none-any.whl.metadata (572 bytes)\n",
      "Requirement already satisfied: requests in c:\\users\\acer\\appdata\\local\\programs\\python\\python312\\lib\\site-packages (from vaderSentiment) (2.31.0)\n",
      "Requirement already satisfied: charset-normalizer<4,>=2 in c:\\users\\acer\\appdata\\local\\programs\\python\\python312\\lib\\site-packages (from requests->vaderSentiment) (3.3.0)\n",
      "Requirement already satisfied: idna<4,>=2.5 in c:\\users\\acer\\appdata\\local\\programs\\python\\python312\\lib\\site-packages (from requests->vaderSentiment) (3.4)\n",
      "Requirement already satisfied: urllib3<3,>=1.21.1 in c:\\users\\acer\\appdata\\local\\programs\\python\\python312\\lib\\site-packages (from requests->vaderSentiment) (2.0.6)\n",
      "Requirement already satisfied: certifi>=2017.4.17 in c:\\users\\acer\\appdata\\local\\programs\\python\\python312\\lib\\site-packages (from requests->vaderSentiment) (2023.7.22)\n",
      "Downloading vaderSentiment-3.3.2-py2.py3-none-any.whl (125 kB)\n",
      "   ---------------------------------------- 0.0/126.0 kB ? eta -:--:--\n",
      "   ---------------------------------------- 126.0/126.0 kB 7.7 MB/s eta 0:00:00\n",
      "Installing collected packages: vaderSentiment\n",
      "Successfully installed vaderSentiment-3.3.2\n",
      "Note: you may need to restart the kernel to use updated packages.\n"
     ]
    }
   ],
   "source": [
    "pip install vaderSentiment"
   ]
  },
  {
   "cell_type": "code",
   "execution_count": 6,
   "id": "7ef39fc5-a893-4dfc-8dcc-8fdbb660300b",
   "metadata": {},
   "outputs": [
    {
     "name": "stdout",
     "output_type": "stream",
     "text": [
      "Collecting tabulateNote: you may need to restart the kernel to use updated packages.\n",
      "\n",
      "  Downloading tabulate-0.9.0-py3-none-any.whl.metadata (34 kB)\n",
      "Downloading tabulate-0.9.0-py3-none-any.whl (35 kB)\n",
      "Installing collected packages: tabulate\n",
      "Successfully installed tabulate-0.9.0\n"
     ]
    }
   ],
   "source": [
    "pip install tabulate"
   ]
  },
  {
   "cell_type": "code",
   "execution_count": 7,
   "id": "43b379c2-6bda-46db-b973-4697dfd9cedb",
   "metadata": {},
   "outputs": [
    {
     "name": "stdout",
     "output_type": "stream",
     "text": [
      "Lexicon-based approach:\n",
      "Text                                                              Actual Label    TextBlob Sentiment    VADER Sentiment\n",
      "----------------------------------------------------------------  --------------  --------------------  -----------------\n",
      "I love this product, it's amazing!                                positive        positive              positive\n",
      "This product is terrible, I hate it.                              negative        negative              negative\n",
      "It's okay, not bad but not great either.                          neutral         positive              negative\n",
      "Best product ever, highly recommended!                            positive        positive              positive\n",
      "I'm really disappointed with the quality.                         negative        negative              negative\n",
      "So-so product, nothing special about it.                          neutral         positive              negative\n",
      "The customer service was excellent!                               positive        positive              positive\n",
      "I wasted my money on this useless product.                        negative        negative              negative\n",
      "It's not the worst, but certainly not the best.                   neutral         negative              negative\n",
      "I can't live without this product, it's a lifesaver!              positive        positive              positive\n",
      "The product arrived damaged and unusable.                         negative        neutral               negative\n",
      "It's average, neither good nor bad.                               neutral         negative              negative\n",
      "Highly disappointed with the purchase.                            negative        negative              negative\n",
      "The product exceeded my expectations.                             positive        neutral               neutral\n",
      "It's just okay, nothing extraordinary.                            neutral         positive              positive\n",
      "This product is excellent, it exceeded all my expectations!       positive        positive              positive\n",
      "I regret purchasing this product, it's a waste of money.          negative        negative              negative\n",
      "It's neither good nor bad, just average.                          neutral         negative              negative\n",
      "Outstanding customer service, highly recommended!                 positive        positive              positive\n",
      "I'm very disappointed with the quality of this item.              negative        negative              negative\n",
      "It's not the best product, but it gets the job done.              neutral         positive              negative\n",
      "This product is a game-changer, I can't imagine life without it!  positive        neutral               neutral\n",
      "I received a defective product, very dissatisfied.                negative        positive              negative\n",
      "It's neither great nor terrible, just okay.                       neutral         positive              negative\n",
      "Fantastic product, I would buy it again in a heartbeat!           positive        positive              positive\n",
      "Avoid this product at all costs, complete waste of money.         negative        negative              negative\n",
      "It's decent, but nothing extraordinary.                           neutral         positive              neutral\n",
      "Impressive quality, exceeded my expectations!                     positive        positive              positive\n",
      "I'm very unhappy with this purchase, total disappointment.        negative        negative              negative\n",
      "It's neither amazing nor terrible, somewhere in between.          neutral         negative              negative\n",
      "\n",
      "Classification Report for TextBlob:\n",
      "              precision    recall  f1-score   support\n",
      "\n",
      "    negative       0.67      0.80      0.73        10\n",
      "     neutral       0.00      0.00      0.00        10\n",
      "    positive       0.53      0.80      0.64        10\n",
      "\n",
      "    accuracy                           0.53        30\n",
      "   macro avg       0.40      0.53      0.46        30\n",
      "weighted avg       0.40      0.53      0.46        30\n",
      "\n",
      "\n",
      "Classification Report for VADER:\n",
      "              precision    recall  f1-score   support\n",
      "\n",
      "    negative       0.56      1.00      0.71        10\n",
      "     neutral       0.33      0.10      0.15        10\n",
      "    positive       0.89      0.80      0.84        10\n",
      "\n",
      "    accuracy                           0.63        30\n",
      "   macro avg       0.59      0.63      0.57        30\n",
      "weighted avg       0.59      0.63      0.57        30\n",
      "\n"
     ]
    }
   ],
   "source": [
    "from textblob import TextBlob\n",
    "from vaderSentiment.vaderSentiment import SentimentIntensityAnalyzer\n",
    "from sklearn.metrics import classification_report\n",
    "from tabulate import tabulate\n",
    "\n",
    "# Sample data for demonstration\n",
    "data = [\n",
    "    (\"I love this product, it's amazing!\", 'positive'),\n",
    "    (\"This product is terrible, I hate it.\", 'negative'),\n",
    "    (\"It's okay, not bad but not great either.\", 'neutral'),\n",
    "    (\"Best product ever, highly recommended!\", 'positive'),\n",
    "    (\"I'm really disappointed with the quality.\", 'negative'),\n",
    "    (\"So-so product, nothing special about it.\", 'neutral'),\n",
    "    (\"The customer service was excellent!\", 'positive'),\n",
    "    (\"I wasted my money on this useless product.\", 'negative'),\n",
    "    (\"It's not the worst, but certainly not the best.\", 'neutral'),\n",
    "    (\"I can't live without this product, it's a lifesaver!\", 'positive'),\n",
    "    (\"The product arrived damaged and unusable.\", 'negative'),\n",
    "    (\"It's average, neither good nor bad.\", 'neutral'),\n",
    "    (\"Highly disappointed with the purchase.\", 'negative'),\n",
    "    (\"The product exceeded my expectations.\", 'positive'),\n",
    "    (\"It's just okay, nothing extraordinary.\", 'neutral'),\n",
    "    (\"This product is excellent, it exceeded all my expectations!\", 'positive'),\n",
    "    (\"I regret purchasing this product, it's a waste of money.\", 'negative'),\n",
    "    (\"It's neither good nor bad, just average.\", 'neutral'),\n",
    "    (\"Outstanding customer service, highly recommended!\", 'positive'),\n",
    "    (\"I'm very disappointed with the quality of this item.\", 'negative'),\n",
    "    (\"It's not the best product, but it gets the job done.\", 'neutral'),\n",
    "    (\"This product is a game-changer, I can't imagine life without it!\", 'positive'),\n",
    "    (\"I received a defective product, very dissatisfied.\", 'negative'),\n",
    "    (\"It's neither great nor terrible, just okay.\", 'neutral'),\n",
    "    (\"Fantastic product, I would buy it again in a heartbeat!\", 'positive'),\n",
    "    (\"Avoid this product at all costs, complete waste of money.\", 'negative'),\n",
    "    (\"It's decent, but nothing extraordinary.\", 'neutral'),\n",
    "    (\"Impressive quality, exceeded my expectations!\", 'positive'),\n",
    "    (\"I'm very unhappy with this purchase, total disappointment.\", 'negative'),\n",
    "    (\"It's neither amazing nor terrible, somewhere in between.\", 'neutral')\n",
    "]\n",
    "\n",
    "# Initialize an empty list to store the data in tabular format\n",
    "table_data = [[\"Text\", \"Actual Label\", \"TextBlob Sentiment\", \"VADER Sentiment\"]]\n",
    "\n",
    "# Lexicon-based approach using TextBlob and VADER\n",
    "print(\"Lexicon-based approach:\")\n",
    "for text, actual_label in data:\n",
    "    # TextBlob\n",
    "    blob = TextBlob(text)\n",
    "    tb_polarity = blob.sentiment.polarity\n",
    "\n",
    "    # Determine label based on polarity score from TextBlob\n",
    "    if tb_polarity > 0:\n",
    "        tb_label = 'positive'\n",
    "    elif tb_polarity < 0:\n",
    "        tb_label = 'negative'\n",
    "    else:\n",
    "        tb_label = 'neutral'\n",
    "\n",
    "    # VADER\n",
    "    analyzer = SentimentIntensityAnalyzer()\n",
    "    vs = analyzer.polarity_scores(text)\n",
    "    vader_compound = vs['compound']\n",
    "\n",
    "    # Determine label based on compound score from VADER\n",
    "    if vader_compound > 0.05:\n",
    "        vader_label = 'positive'\n",
    "    elif vader_compound < -0.05:\n",
    "        vader_label = 'negative'\n",
    "    else:\n",
    "        vader_label = 'neutral'\n",
    "\n",
    "    table_data.append([text, actual_label, tb_label, vader_label])\n",
    "    \n",
    "# Print the sentiment analysis results in a table format\n",
    "print(tabulate(table_data, headers=\"firstrow\"))\n",
    "\n",
    "# Calculate classification report for TextBlob\n",
    "tb_classification_report = classification_report([label for _, label in data], [tb_label for _, _, tb_label, _ in table_data[1:]], target_names=['negative', 'neutral', 'positive'])\n",
    "\n",
    "# Calculate classification report for VADER\n",
    "vader_classification_report = classification_report([label for _, label in data], [vader_label for _, _, _, vader_label in table_data[1:]], target_names=['negative', 'neutral', 'positive'])\n",
    "\n",
    "# Print classification report for TextBlob\n",
    "print(\"\\nClassification Report for TextBlob:\")\n",
    "print(tb_classification_report)\n",
    "\n",
    "# Print classification report for VADER\n",
    "print(\"\\nClassification Report for VADER:\")\n",
    "print(vader_classification_report)"
   ]
  },
  {
   "cell_type": "code",
   "execution_count": null,
   "id": "bd8ea660-3c70-4ccb-877c-979d57831d81",
   "metadata": {},
   "outputs": [],
   "source": []
  }
 ],
 "metadata": {
  "kernelspec": {
   "display_name": "Python 3 (ipykernel)",
   "language": "python",
   "name": "python3"
  },
  "language_info": {
   "codemirror_mode": {
    "name": "ipython",
    "version": 3
   },
   "file_extension": ".py",
   "mimetype": "text/x-python",
   "name": "python",
   "nbconvert_exporter": "python",
   "pygments_lexer": "ipython3",
   "version": "3.12.0"
  }
 },
 "nbformat": 4,
 "nbformat_minor": 5
}
