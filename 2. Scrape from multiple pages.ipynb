{
 "cells": [
  {
   "cell_type": "code",
   "execution_count": 1,
   "id": "95540034-cec3-4cf6-94ed-d98f6c0fc6ee",
   "metadata": {},
   "outputs": [],
   "source": [
    "import requests"
   ]
  },
  {
   "cell_type": "code",
   "execution_count": 2,
   "id": "6276c7d6-05c2-44b9-ba19-db9ba876bdc5",
   "metadata": {},
   "outputs": [],
   "source": [
    "from bs4 import BeautifulSoup"
   ]
  },
  {
   "cell_type": "code",
   "execution_count": 3,
   "id": "eaa42e9e-7e3c-4c86-952c-843b768e6a9d",
   "metadata": {},
   "outputs": [],
   "source": [
    "import csv"
   ]
  },
  {
   "cell_type": "code",
   "execution_count": 4,
   "id": "b77d9add-6b67-4319-964f-c890212e84a0",
   "metadata": {},
   "outputs": [],
   "source": [
    "# Function to scrape quotes from a page\n",
    "def scrape_page(soup, quotes):\n",
    "    for quote in soup.find_all('div', class_='quote'):\n",
    "        text = quote.find('span', class_='text').text\n",
    "        author = quote.find('small', class_='author').text\n",
    "        tags = ', '.join(tag.text for tag in quote.find_all('a', class_='tag'))\n",
    "        quotes.append({'Text': text, 'Author': author, 'Tags': tags})"
   ]
  },
  {
   "cell_type": "code",
   "execution_count": 11,
   "id": "98d0a67d-0a67-4541-9f4e-8890feb0e429",
   "metadata": {},
   "outputs": [],
   "source": [
    "# Base URL and headers\n",
    "base_url = 'https://quotes.toscrape.com/'\n",
    "\n",
    "headers = {'User-Agent': 'Mozilla/5.0'}"
   ]
  },
  {
   "cell_type": "code",
   "execution_count": 12,
   "id": "4e090148-248d-49a8-98a3-8af628965fe5",
   "metadata": {},
   "outputs": [
    {
     "data": {
      "text/plain": [
       "{'User-Agent': 'Mozilla/5.0'}"
      ]
     },
     "execution_count": 12,
     "metadata": {},
     "output_type": "execute_result"
    }
   ],
   "source": [
    "headers"
   ]
  },
  {
   "cell_type": "code",
   "execution_count": 13,
   "id": "f16b6956-7edb-4b4d-ac85-6265b48b3c8b",
   "metadata": {},
   "outputs": [],
   "source": [
    "# List to store quotes\n",
    "quotes=[]"
   ]
  },
  {
   "cell_type": "code",
   "execution_count": 14,
   "id": "02ee36c7-19d0-4622-a6eb-bab3adcd380f",
   "metadata": {},
   "outputs": [],
   "source": [
    "# Function to scrape quotes from multiple pages\n",
    "def scrape_all_pages(url):\n",
    "    while url:\n",
    "        response = requests.get(url, headers=headers)\n",
    "        soup = BeautifulSoup(response.text, 'html.parser')\n",
    "        scrape_page(soup, quotes)\n",
    "        next_page = soup.find('li', class_='next')\n",
    "        url = base_url + next_page.find('a')['href'] if next_page else None"
   ]
  },
  {
   "cell_type": "code",
   "execution_count": 15,
   "id": "d6fee222-2c8d-4b32-b9e5-694e0a66a18e",
   "metadata": {},
   "outputs": [],
   "source": [
    "# Scrape quotes from all pages\n",
    "scrape_all_pages(base_url)"
   ]
  },
  {
   "cell_type": "code",
   "execution_count": 20,
   "id": "9aa8767c-c095-4a6a-8c75-129b63c869c1",
   "metadata": {},
   "outputs": [
    {
     "name": "stdout",
     "output_type": "stream",
     "text": [
      "Quotes have been saved to quotes2.csv\n"
     ]
    }
   ],
   "source": [
    "# Save quotes from all pages\n",
    "with open('quotes2.csv', 'w', newline='', encoding='utf-8') as csvfile:\n",
    "    writer = csv.DictWriter(csvfile, fieldnames=['Text', 'Author', 'Tags'])\n",
    "    writer.writeheader()\n",
    "    writer.writerows(quotes)\n",
    "\n",
    "print(\"Quotes have been saved to quotes2.csv\")"
   ]
  },
  {
   "cell_type": "code",
   "execution_count": null,
   "id": "736a93dd-b7fa-4061-9f08-473156a5adfd",
   "metadata": {},
   "outputs": [],
   "source": []
  },
  {
   "cell_type": "code",
   "execution_count": null,
   "id": "aae19285-ac27-4440-adbb-8f08aad3813e",
   "metadata": {},
   "outputs": [],
   "source": []
  },
  {
   "cell_type": "code",
   "execution_count": null,
   "id": "971a1ddb-fc64-4638-8b81-a93080daa54c",
   "metadata": {},
   "outputs": [],
   "source": []
  }
 ],
 "metadata": {
  "kernelspec": {
   "display_name": "Python 3 (ipykernel)",
   "language": "python",
   "name": "python3"
  },
  "language_info": {
   "codemirror_mode": {
    "name": "ipython",
    "version": 3
   },
   "file_extension": ".py",
   "mimetype": "text/x-python",
   "name": "python",
   "nbconvert_exporter": "python",
   "pygments_lexer": "ipython3",
   "version": "3.12.0"
  }
 },
 "nbformat": 4,
 "nbformat_minor": 5
}
